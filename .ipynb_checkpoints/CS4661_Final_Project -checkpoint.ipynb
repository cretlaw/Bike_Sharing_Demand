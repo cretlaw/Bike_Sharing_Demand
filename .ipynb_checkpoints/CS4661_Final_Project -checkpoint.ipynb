{
 "cells": [
  {
   "cell_type": "markdown",
   "metadata": {},
   "source": [
    "# CS 4661 - Introduction to DataScience\n",
    "\n",
    "# Class Project - Bike Sharing Demand\n",
    "\n",
    "### Predicting amount of bicycles to be used on a given day\n",
    "\n",
    "### Prepared By: Enrique Castillo, Erika Estrada, Walter Carbajal, Vrezh Khalatyan\n",
    "------------------------------------------------------------------------------------------------------------------\n",
    "\n",
    "#### Bike sharing throughout the world has started to become increasingly popular throughout the past decade. Large transportation companies have begun to \"hop on the train\" in order to gain some of the market before it gets to large. However, aside from getting people around their cities in a much easier and healthier way. The bike sharing systems/programs have the potential to generate a large amount of data which can function as a sensor network, which can be used for studying mobility in a city.\n",
    "\n",
    "#### Kaggle hosted a friendly competetion to have participants find the best machine learning algorithm to predict the amount of bikes used on a given day.\n",
    "\n",
    "#### We are given hourly rental data spanning two years. The training set is comprised of the first 19 days of each month, while the test set is the 20th to the end of the month. \n",
    "\n",
    "#### Our task: \"You must predict the total count of bikes rented during each hour covered by the test set, using only information available prior to the rental period. \n",
    "\n",
    "#### In general, our goal is to create a model that predicts the value of a target variable by learning simple decision rules inferred from the data features. \n",
    "\n",
    "#### We use methods such as *Cross Validation* to assess the predictive performance of the models and to judge how they perform outside the sample to a new data set also known as test data.\n",
    "\n",
    "#### The motivation to use *Cross Validation* techniques is that when we fit a model, we are fitting it to a training dataset, Without *Cross Validation*, we only have information on how does our model perform to our in-sample data. Ideally, we would like to see how does the model perform when we have new data in terms of accuracy of its predictions.\n",
    "\n",
    "## Data Fields\n",
    "\n",
    "- **datetime:** *hourly date + timestamp*  \n",
    "- **season:** *1 = spring, 2 = summer, 3 = fall, 4 = winter* \n",
    "- **holiday:** *whether the day is considered a holiday*\n",
    "- **workingday:** *whether the day is neither a weekend nor holiday*\n",
    "- **weather:**\n",
    "    - 1: Clear, Few clouds, Partly cloudy, Partly cloudy \n",
    "    - 2: Mist + Cloudy, Mist + Broken clouds, Mist + Few clouds, Mist \n",
    "    - 3: Light Snow, Light Rain + Thunderstorm + Scattered clouds, Light Rain + Scattered clouds \n",
    "    - 4: Heavy Rain + Ice Pallets + Thunderstorm + Mist, Snow + Fog \n",
    "- **temp:** *temperature in Celsius*\n",
    "- **atemp:** *\"feels like\" temperature in Celsius*\n",
    "- **humidity:** relative humidity\n",
    "- **windspeed:** *wind speed*\n",
    "- **casual:** *number of non-registered user rentals initiated*\n",
    "- **registered:** *number of registered user rentals initiated*\n",
    "- **count:** *number of total rentals*\n",
    "\n",
    "\n",
    "## Analyzing Our Data\n",
    "We will start our attempt with this project by seeing the type of data we are dealing with.\n",
    "\n",
    "First we import the necessary modules to read the data. In this case, we will use the pandas and numpy library."
   ]
  },
  {
   "cell_type": "code",
   "execution_count": 1,
   "metadata": {},
   "outputs": [],
   "source": [
    "import pandas as pd\n",
    "import numpy as np"
   ]
  },
  {
   "cell_type": "markdown",
   "metadata": {},
   "source": [
    "Next, we will import our dataset from our local directory. "
   ]
  },
  {
   "cell_type": "code",
   "execution_count": 2,
   "metadata": {},
   "outputs": [],
   "source": [
    "bicycle_df = pd.read_csv('train.csv')"
   ]
  },
  {
   "cell_type": "markdown",
   "metadata": {},
   "source": [
    "The first thing and the easiest thing is to preview the first five rows of data in out dataset. So we use..."
   ]
  },
  {
   "cell_type": "code",
   "execution_count": 3,
   "metadata": {
    "scrolled": true
   },
   "outputs": [],
   "source": [
    "# bicycle_df.head() # omitted to reduce space on report (see .iypnb)"
   ]
  },
  {
   "cell_type": "markdown",
   "metadata": {},
   "source": [
    "Here, some questions about that dataset start to come to mind. Questions such as:\n",
    "\n",
    "- What are the max values of season, holiday, workingday weather?\n",
    "- What can we do to datetime to make it more useful?\n",
    "- Do we need the casual and registered labels?\n",
    "- Is there any categorical features?\n",
    "\n",
    "To answer the first question, we use the dataframe's describe() method..."
   ]
  },
  {
   "cell_type": "code",
   "execution_count": 4,
   "metadata": {},
   "outputs": [],
   "source": [
    "# bicycle_df.describe() # omitted to reduce space on report (see .iypnb)"
   ]
  },
  {
   "cell_type": "markdown",
   "metadata": {},
   "source": [
    "Analyzing the results of the describe() method, we see that:\n",
    "\n",
    "- **Season** has integer values of 1,2,3,4 (Winter, Spring, Summer, Fall)\n",
    "- **Holiday** has integer values of 1 or 0 (Holiday or non-holiday)\n",
    "- **Working Day** has integer values 1 or 0 (Work Day or not a Work Day)\n",
    "- **Weather** has integer values 1,2,3,4 each number representing a specific weather condition (described in the Data Field section above)\n",
    "\n",
    "Based of these results, we can determine that these four fields must be categorial features. Therefore, we can conclude that our dataset has a mixture of numerical and categorical features, which may complicate our results later in this project.\n",
    "\n",
    "Now, we must check whether the suggested fields above need to be converted into categorical types. To do this, we use the dataframe's dtypes() method to check the each column's data type..."
   ]
  },
  {
   "cell_type": "code",
   "execution_count": 5,
   "metadata": {},
   "outputs": [],
   "source": [
    "# bicycle_df.dtypes # omitted to reduce space on report (see .iypnb)"
   ]
  },
  {
   "cell_type": "markdown",
   "metadata": {},
   "source": [
    "As shown above, we will need to convert the features mentioned above into categorical features. We will do this later on in our project.\n",
    "\n",
    "Next, lets take a quick look at the dataset's volume..."
   ]
  },
  {
   "cell_type": "code",
   "execution_count": 6,
   "metadata": {},
   "outputs": [
    {
     "data": {
      "text/plain": [
       "(10886, 12)"
      ]
     },
     "execution_count": 6,
     "metadata": {},
     "output_type": "execute_result"
    }
   ],
   "source": [
    "bicycle_df.shape"
   ]
  },
  {
   "cell_type": "markdown",
   "metadata": {},
   "source": [
    "For our training set, we have **10,886** entries of data that we will use to train our machine learning models to predict the amount of bicycles used on a given hour of a day.\n",
    "\n",
    "To help us visualize the data, we will plot the data based on the **amount of bicycles used throughout the seasons** and the **amount of bicycles used hourly**. First we will import the necessary models to accomplish this..."
   ]
  },
  {
   "cell_type": "code",
   "execution_count": 7,
   "metadata": {},
   "outputs": [],
   "source": [
    "import matplotlib.pyplot as plt\n",
    "import seaborn as sn\n",
    "import calendar\n",
    "\n",
    "from datetime import datetime"
   ]
  },
  {
   "cell_type": "markdown",
   "metadata": {},
   "source": [
    "Now we re-import our dataset into a new dataframe..."
   ]
  },
  {
   "cell_type": "code",
   "execution_count": 8,
   "metadata": {},
   "outputs": [],
   "source": [
    "modified_bicycle_df = pd.read_csv('train.csv')"
   ]
  },
  {
   "cell_type": "markdown",
   "metadata": {},
   "source": [
    "Next, we use the *datetime* feature to seperate it into *date*, *hour*, and *month* features to better allow us to visualize the data and drop it from this dataframe instance since we don't need it here anymore..."
   ]
  },
  {
   "cell_type": "code",
   "execution_count": 9,
   "metadata": {},
   "outputs": [],
   "source": [
    "modified_bicycle_df['date'] = modified_bicycle_df.datetime.apply(lambda x : x.split()[0])\n",
    "modified_bicycle_df['hour'] = modified_bicycle_df.datetime.apply(lambda x : x.split()[1].split(\":\")[0])\n",
    "modified_bicycle_df['month'] = modified_bicycle_df.date.apply(lambda dateString : calendar.month_name[datetime.strptime(dateString,\"%Y-%m-%d\").month])\n",
    "\n",
    "modified_bicycle_df = modified_bicycle_df.drop(['datetime'],axis=1)"
   ]
  },
  {
   "cell_type": "markdown",
   "metadata": {},
   "source": [
    "Finally, we will plot the data into two box graphs..."
   ]
  },
  {
   "cell_type": "code",
   "execution_count": 10,
   "metadata": {},
   "outputs": [
    {
     "data": {
      "text/plain": [
       "[Text(0,0.5,'Count'),\n",
       " Text(0.5,0,'Hour Of The Day'),\n",
       " Text(0.5,1,'Amount of Bicycles used hourly')]"
      ]
     },
     "execution_count": 10,
     "metadata": {},
     "output_type": "execute_result"
    },
    {
     "data": {
      "image/png": "[encoded data removed]",
      "text/plain": [
       "<Figure size 1080x720 with 2 Axes>"
      ]
     },
     "metadata": {},
     "output_type": "display_data"
    }
   ],
   "source": [
    "fig, axes = plt.subplots(nrows=2,ncols=1)\n",
    "\n",
    "fig.set_size_inches(15, 10)\n",
    "\n",
    "sn.boxplot(data=modified_bicycle_df,\n",
    "           y=\"count\",\n",
    "           x=\"season\",\n",
    "           orient=\"v\",\n",
    "           ax=axes[0])\n",
    "\n",
    "sn.boxplot(data=modified_bicycle_df,\n",
    "           y=\"count\",\n",
    "           x=\"hour\",\n",
    "           orient=\"v\",\n",
    "           ax=axes[1])\n",
    "\n",
    "axes[0].set(xlabel='Season', \n",
    "            ylabel='Count',\n",
    "            title=\"Amount of Bicycles used through the seasons\")\n",
    "\n",
    "axes[1].set(xlabel='Hour Of The Day', \n",
    "            ylabel='Count',\n",
    "            title=\"Amount of Bicycles used hourly\")"
   ]
  },
  {
   "cell_type": "markdown",
   "metadata": {},
   "source": [
    "Lets use different graph to read the busiest hour of day with these bicycles..."
   ]
  },
  {
   "cell_type": "code",
   "execution_count": 11,
   "metadata": {},
   "outputs": [
    {
     "data": {
      "text/plain": [
       "<seaborn.axisgrid.FacetGrid at 0x1faf0847e48>"
      ]
     },
     "execution_count": 11,
     "metadata": {},
     "output_type": "execute_result"
    },
    {
     "data": {
      "image/png": "[encoded data removed]",
      "text/plain": [
       "<Figure size 360x360 with 1 Axes>"
      ]
     },
     "metadata": {},
     "output_type": "display_data"
    }
   ],
   "source": [
    "df = pd.DataFrame()\n",
    "df['count'] = modified_bicycle_df['count']\n",
    "df['hour'] = modified_bicycle_df['hour']\n",
    "\n",
    "sn.lmplot('count', 'hour', data=df, fit_reg=False)"
   ]
  },
  {
   "cell_type": "markdown",
   "metadata": {},
   "source": [
    "Here we can clearly see that people use the bicycles the most at **hours 17 & 18**\n",
    "\n",
    "After analyzing our data, we will begin to use different machine learning algorithms and start our attempt at predicting our **count** label.\n",
    "\n",
    "First, lets import the necessary modules we will use across all our different algorithms.."
   ]
  },
  {
   "cell_type": "code",
   "execution_count": 12,
   "metadata": {},
   "outputs": [],
   "source": [
    "from sklearn.model_selection import cross_val_score\n",
    "from sklearn.preprocessing import scale\n",
    "from sklearn.model_selection import train_test_split\n",
    "from sklearn.metrics import accuracy_score\n",
    "from sklearn.metrics import r2_score\n",
    "from matplotlib.pyplot import bar"
   ]
  },
  {
   "cell_type": "markdown",
   "metadata": {},
   "source": [
    "We reimport the data to keep data for pre-examination and for implementation separate.\n",
    "Similar to visualizing the data, we will split the *datetime* feature into four features (*year, month, day, hour*) instead of three and then drop the *datetime* feature after we have extracted all the necessary data we need..."
   ]
  },
  {
   "cell_type": "code",
   "execution_count": 13,
   "metadata": {},
   "outputs": [],
   "source": [
    "train_data = pd.read_csv(\"train.csv\")\n",
    "train_data[\"year\"] = train_data.datetime.apply(lambda x : x.split()[0].split(\"-\")[0])\n",
    "train_data[\"month\"] = train_data.datetime.apply(lambda x : x.split()[0].split(\"-\")[1])\n",
    "train_data[\"day\"] = train_data.datetime.apply(lambda x : x.split()[0].split(\"-\")[2])\n",
    "train_data[\"hour\"] = train_data.datetime.apply(lambda x : x.split()[1].split(\":\")[0])\n",
    "train_data = train_data.drop('datetime', axis=1)"
   ]
  },
  {
   "cell_type": "markdown",
   "metadata": {},
   "source": [
    "Next, we create our **feature matrix** and the **label vector**. One other thing we do here is scale our feature matrix to help normalize our dataset which can offer better results..."
   ]
  },
  {
   "cell_type": "code",
   "execution_count": 14,
   "metadata": {},
   "outputs": [],
   "source": [
    "features= train_data.drop(['casual','registered','count'], axis=1)\n",
    "scaled_features = scale(features)\n",
    "target = train_data['count']"
   ]
  },
  {
   "cell_type": "code",
   "execution_count": 15,
   "metadata": {},
   "outputs": [],
   "source": [
    "X_train, X_test, y_train, y_test = train_test_split(scaled_features,\n",
    "                                                    target, \n",
    "                                                    test_size=0.3, \n",
    "                                                    random_state=2)"
   ]
  },
  {
   "cell_type": "markdown",
   "metadata": {},
   "source": [
    "We will begin by first using some classifiers and analyzing their results.\n",
    "\n",
    "## DecisionTreeClassifier\n",
    "\n",
    "First up, we'll the DecisionTreeClassifier. Lets import the necessary module and create our instance of this model..."
   ]
  },
  {
   "cell_type": "code",
   "execution_count": 16,
   "metadata": {},
   "outputs": [],
   "source": [
    "from sklearn.tree import DecisionTreeClassifier\n",
    "\n",
    "my_decisionTree = DecisionTreeClassifier(random_state=2,\n",
    "                                         max_depth = 10)"
   ]
  },
  {
   "cell_type": "markdown",
   "metadata": {},
   "source": [
    "Next, lets train the model and get the accuracy score.."
   ]
  },
  {
   "cell_type": "code",
   "execution_count": 17,
   "metadata": {},
   "outputs": [
    {
     "name": "stdout",
     "output_type": "stream",
     "text": [
      "0.022351500306184935\n"
     ]
    }
   ],
   "source": [
    "my_decisionTree.fit(X_train, y_train)\n",
    "y_predict_dt = my_decisionTree.predict(X_test)\n",
    "score_dt = accuracy_score(y_test, y_predict_dt)\n",
    "print(score_dt)"
   ]
  },
  {
   "cell_type": "markdown",
   "metadata": {},
   "source": [
    "Finally, we then try 10-fold *Cross Validation*"
   ]
  },
  {
   "cell_type": "code",
   "execution_count": 18,
   "metadata": {},
   "outputs": [
    {
     "name": "stderr",
     "output_type": "stream",
     "text": [
      "C:\\Program Files (x86)\\Microsoft Visual Studio\\Shared\\Anaconda3_64\\lib\\site-packages\\sklearn\\model_selection\\_split.py:605: Warning: The least populated class in y has only 1 members, which is too few. The minimum number of members in any class cannot be less than n_splits=10.\n",
      "  % (min_groups, self.n_splits)), Warning)\n"
     ]
    },
    {
     "name": "stdout",
     "output_type": "stream",
     "text": [
      "0.020222767683661436\n"
     ]
    }
   ],
   "source": [
    "accuracy_list = cross_val_score(my_decisionTree, \n",
    "                                scaled_features, \n",
    "                                target, \n",
    "                                cv=10)\n",
    "accuracy_cv = accuracy_list.mean()\n",
    "print(accuracy_cv)"
   ]
  },
  {
   "cell_type": "code",
   "execution_count": 19,
   "metadata": {},
   "outputs": [
    {
     "name": "stdout",
     "output_type": "stream",
     "text": [
      "The R^2 score is 0.6645823715846187\n"
     ]
    }
   ],
   "source": [
    "test_score = r2_score(y_test, y_predict_dt)\n",
    "print('The R^2 score is {}'.format(test_score))"
   ]
  },
  {
   "cell_type": "markdown",
   "metadata": {},
   "source": [
    "## RandomForestClassifier\n",
    "\n",
    "Next up, we will try using the Random Forest Classifier. First we import the necessary modules and create our instance of our model..."
   ]
  },
  {
   "cell_type": "code",
   "execution_count": 20,
   "metadata": {},
   "outputs": [],
   "source": [
    "from sklearn.ensemble import RandomForestClassifier\n",
    "\n",
    "my_RandomForest = RandomForestClassifier(n_estimators = 100, \n",
    "                                         bootstrap = True, \n",
    "                                         random_state=3)"
   ]
  },
  {
   "cell_type": "markdown",
   "metadata": {},
   "source": [
    "Then, we will use the same training and testing sets used above and train our Random Forest Classifier. We also calculate the accuracy score of our prediction..."
   ]
  },
  {
   "cell_type": "code",
   "execution_count": null,
   "metadata": {},
   "outputs": [],
   "source": [
    "my_RandomForest.fit(X_train, y_train)\n",
    "y_predict_RF = my_RandomForest.predict(X_test)\n",
    "accuracy_RF =accuracy_score(y_test, y_predict_RF)\n",
    "print(\"Prediction Accuracy using only RandomForest Classifier: \" + str(accuracy_RF))"
   ]
  },
  {
   "cell_type": "markdown",
   "metadata": {},
   "source": [
    "Finally, we use 10-fold cross validation and calculate our new accuracy score..."
   ]
  },
  {
   "cell_type": "code",
   "execution_count": null,
   "metadata": {
    "scrolled": true
   },
   "outputs": [],
   "source": [
    "rf_accuracy_list = cross_val_score(my_decisionTree, \n",
    "                                   scaled_features, \n",
    "                                   target, \n",
    "                                   cv=10, \n",
    "                                   scoring='accuracy')\n",
    "accuracy_rf = rf_accuracy_list.mean()\n",
    "\n",
    "print(\"Prediction Accuracy with RandomForest Using Cross_Validation: \" + str(accuracy_rf))"
   ]
  },
  {
   "cell_type": "code",
   "execution_count": null,
   "metadata": {},
   "outputs": [],
   "source": [
    "test_score = r2_score(y_test, y_predict_RF)\n",
    "print('The R^2 score is {}'.format(test_score))"
   ]
  },
  {
   "cell_type": "markdown",
   "metadata": {},
   "source": [
    "Let's stop here with the classifiers and analyze the results we've gotten so far. Using the Decision Tree Classifier, we only achieved a accuracy score of **2.2%** without *Cross Validation* and **2%** with it! The same could be said for the Random Forest Classifier, where we achieved **1.9%** without *Cross Validation* and **2%** with it! \n",
    "\n",
    "Because of these results, we can conclude that using Classifiers for our particular dataset will not work out since some of our features are not continuous! \n",
    "\n",
    "Next we will begin using Regressors and see how they perform with out dataset.\n",
    "\n",
    "## KNeighborsRegressor\n",
    "\n",
    "Lets import the KNeighborsRegressor from the sklearn.neighbors package and create an instance of our model..."
   ]
  },
  {
   "cell_type": "code",
   "execution_count": null,
   "metadata": {},
   "outputs": [],
   "source": [
    "from sklearn.neighbors import KNeighborsRegressor\n",
    "\n",
    "my_algorithm = KNeighborsRegressor(n_neighbors=75)"
   ]
  },
  {
   "cell_type": "markdown",
   "metadata": {},
   "source": [
    "Finally, lets train the machine learning algorithm..."
   ]
  },
  {
   "cell_type": "code",
   "execution_count": null,
   "metadata": {},
   "outputs": [],
   "source": [
    "accuracy_list = cross_val_score(my_algorithm, \n",
    "                                scaled_features, \n",
    "                                target, \n",
    "                                cv=10)\n",
    "accuracy_cv = accuracy_list.mean()\n",
    "print(accuracy_cv)"
   ]
  },
  {
   "cell_type": "code",
   "execution_count": null,
   "metadata": {},
   "outputs": [],
   "source": [
    "my_algorithm.fit(X_train, y_train)\n",
    "y_predict_KNR = my_algorithm.predict(X_test)\n",
    "test_score = r2_score(y_test, y_predict_KNR)\n",
    "print('The R^2 score is {}'.format(test_score))\n"
   ]
  },
  {
   "cell_type": "markdown",
   "metadata": {},
   "source": [
    "With only a **27.4%** accuracy score, we can conclude that this particular algorithm is very inefficient with our particular dataset since it grouping the data through multiple categories creates too many clusters, therefore causing error within our test.\n",
    "\n",
    "## DecisionTreeRegressor\n",
    "\n",
    "Our next model is the Decision Tree Regressor. First lets use the normalized feature matrix and split the data into training and testing sets..."
   ]
  },
  {
   "cell_type": "code",
   "execution_count": null,
   "metadata": {},
   "outputs": [],
   "source": [
    "from sklearn.tree import DecisionTreeRegressor\n",
    "dtr = DecisionTreeRegressor()"
   ]
  },
  {
   "cell_type": "markdown",
   "metadata": {},
   "source": [
    "Next, we train the model, use 10-fold *Cross Validation*, and calculate the accuracy score based on this..."
   ]
  },
  {
   "cell_type": "code",
   "execution_count": null,
   "metadata": {},
   "outputs": [],
   "source": [
    "dtr = dtr.fit(X_train, y_train)\n",
    "\n",
    "y_predict =dtr.predict(X_test)\n",
    "\n",
    "accuracy_rfr_cv = cross_val_score(dtr, scaled_features, target, cv=10).mean()\n",
    "print('The accuracy of our prediction using cross validation is  {}%'\n",
    "      .format(round(accuracy_rfr_cv * 100, 2)))"
   ]
  },
  {
   "cell_type": "markdown",
   "metadata": {},
   "source": [
    "Finally we calculate the R^2 score..."
   ]
  },
  {
   "cell_type": "code",
   "execution_count": null,
   "metadata": {},
   "outputs": [],
   "source": [
    "test_score = r2_score(y_test, y_predict)\n",
    "print('The R^2 score is {}'.format(test_score))"
   ]
  },
  {
   "cell_type": "markdown",
   "metadata": {},
   "source": [
    "Analyzing our Decision Tree Regressor, we managed to get a accuracy score of **67.88%** using *Cross Validation* and a R^2 score of **0.871**! This is better than our KNeighborRegressor model. However, our Random Forest Regressor still manages to out perform the Decision Tree Regressor as will soon find out.\n",
    "\n"
   ]
  },
  {
   "cell_type": "markdown",
   "metadata": {},
   "source": [
    "## RandomForestRegressor\n",
    "\n",
    "Using the RandomForestRegressor, lets first create an instance of the mode, train it and predict. "
   ]
  },
  {
   "cell_type": "code",
   "execution_count": null,
   "metadata": {},
   "outputs": [],
   "source": [
    "from sklearn.ensemble import RandomForestRegressor\n",
    "\n",
    "my_random_forest_reg = RandomForestRegressor(random_state = 0, \n",
    "                                             max_depth = 20, \n",
    "                                             n_estimators = 150)\n",
    "my_random_forest_reg.fit(X_train, y_train)\n",
    "y_predict = my_random_forest_reg.predict(X_test)"
   ]
  },
  {
   "cell_type": "markdown",
   "metadata": {},
   "source": [
    "We then calculate the accuracy of the results using 10-fold cross-validation, similar as used in our KNeighborsRegressor model..."
   ]
  },
  {
   "cell_type": "code",
   "execution_count": null,
   "metadata": {},
   "outputs": [],
   "source": [
    "accuracy_RF_CV = cross_val_score(my_random_forest_reg, \n",
    "                                 features, \n",
    "                                 target, \n",
    "                                 cv=10).mean()\n",
    "print('The accuracy of our prediction using cross validation is  {}%'\n",
    "      .format(round(accuracy_RF_CV * 100, 2)))"
   ]
  },
  {
   "cell_type": "markdown",
   "metadata": {},
   "source": [
    "Finally, again we calculate the R^2 score for our model"
   ]
  },
  {
   "cell_type": "code",
   "execution_count": null,
   "metadata": {},
   "outputs": [],
   "source": [
    "\n",
    "test_score = r2_score(y_test, y_predict)\n",
    "print('The R^2 score is {}'.format(test_score))"
   ]
  },
  {
   "cell_type": "markdown",
   "metadata": {},
   "source": [
    "As we can see Random forest regressor is a much better algorithm for this problem given a accuracy score of **79.68%** using *Cross Validation* and a R^2 score of **0.94**! Next, we will find the least important features and remove them to see if we can improve on the score of Random forest regressor"
   ]
  },
  {
   "cell_type": "code",
   "execution_count": null,
   "metadata": {},
   "outputs": [],
   "source": [
    "from matplotlib import pyplot\n",
    "my_random_forest_reg.fit(X_train, y_train)\n",
    "importance = my_random_forest_reg.feature_importances_\n",
    "names = list(features)\n",
    "bar(range(len(importance)), importance)\n",
    "print (sorted(zip(map(lambda x: round(x, 4), importance), names), reverse=True))\n",
    "pyplot.show()"
   ]
  },
  {
   "cell_type": "markdown",
   "metadata": {},
   "source": [
    "Now we will only include the 6 best features..."
   ]
  },
  {
   "cell_type": "code",
   "execution_count": null,
   "metadata": {},
   "outputs": [],
   "source": [
    "new_features = features.drop(['humidity',\n",
    "                              'season',\n",
    "                              'weather',\n",
    "                              'day',\n",
    "                              'windspeed',\n",
    "                              'holiday'],\n",
    "                             axis=1)"
   ]
  },
  {
   "cell_type": "markdown",
   "metadata": {},
   "source": [
    "We normalize the new features"
   ]
  },
  {
   "cell_type": "code",
   "execution_count": null,
   "metadata": {},
   "outputs": [],
   "source": [
    "new_scaled_features = scale(new_features)"
   ]
  },
  {
   "cell_type": "markdown",
   "metadata": {},
   "source": [
    "Now, we use 10-fold Cross Validation with only the six best features..."
   ]
  },
  {
   "cell_type": "code",
   "execution_count": null,
   "metadata": {
    "scrolled": true
   },
   "outputs": [],
   "source": [
    "accuracy_RF_CV = cross_val_score(my_random_forest_reg,\n",
    "                                 new_scaled_features, \n",
    "                                 target, \n",
    "                                 cv=9).mean()\n",
    "    \n",
    "print('The accuracy of our prediction using cross validation is  {}%'\n",
    "      .format(round(accuracy_RF_CV * 100, 2)))"
   ]
  },
  {
   "cell_type": "markdown",
   "metadata": {},
   "source": [
    "Finally, lets calculate the R^2 score for this model"
   ]
  },
  {
   "cell_type": "code",
   "execution_count": null,
   "metadata": {},
   "outputs": [],
   "source": [
    "test_score = r2_score(y_test, y_predict)\n",
    "print('The R^2 score is {}'.format(test_score))"
   ]
  },
  {
   "cell_type": "markdown",
   "metadata": {},
   "source": [
    "We can see that we've only only lost a few meausures in our metric score (**79.68% -> 76.77%**) but we gain a lot of speed time in computing by removing the 6 least important features\n",
    "\n"
   ]
  },
  {
   "cell_type": "markdown",
   "metadata": {},
   "source": [
    "For the following algorithms (Linear Regression, AdaBoot Regressor, Bagging Regressor), we trained and tested with the same feature engineering methods:\n",
    "\n",
    "- extracting the date features from 'datetime'\n",
    "- normalizing the feature values\n",
    "- manually changing negative predictions to zero (since count must be a non-negative number)\n",
    "\n",
    "For some of these algorithms, we also applied extra data manipluation that improves that particular model.\n",
    "\n",
    "Here's the function we'll use to remove negative predictions..."
   ]
  },
  {
   "cell_type": "code",
   "execution_count": null,
   "metadata": {},
   "outputs": [],
   "source": [
    "def zero_min(predictions):\n",
    "    i = 0\n",
    "    for val in predictions:\n",
    "        if val < 0:\n",
    "            predictions[i] = 0\n",
    "        i += 1\n",
    "    return predictions"
   ]
  },
  {
   "cell_type": "markdown",
   "metadata": {},
   "source": [
    "Dataframe for these algorithms..."
   ]
  },
  {
   "cell_type": "code",
   "execution_count": null,
   "metadata": {},
   "outputs": [],
   "source": [
    "modified_bicycle_df = pd.read_csv(\"train.csv\")\n",
    "\n",
    "modified_bicycle_df[\"date\"] = modified_bicycle_df.datetime.apply(lambda x : x.split()[0])\n",
    "modified_bicycle_df[\"hour\"] = modified_bicycle_df.datetime.apply(lambda x : x.split()[1].split(\":\")[0])\n",
    "modified_bicycle_df[\"weekday\"] = modified_bicycle_df.date.apply(lambda dateString : datetime.strptime(dateString,\"%Y-%m-%d\").weekday())\n",
    "modified_bicycle_df[\"month\"] = modified_bicycle_df.date.apply(lambda dateString : datetime.strptime(dateString,\"%Y-%m-%d\").month)\n",
    "modified_bicycle_df[\"year\"] = modified_bicycle_df.date.apply(lambda dateString : datetime.strptime(dateString,\"%Y-%m-%d\").year)\n",
    "\n",
    "categoryVariableList = [\"hour\",\"weekday\",\"month\",\"season\",\"holiday\",\"workingday\"]\n",
    "for var in categoryVariableList:\n",
    "    modified_bicycle_df[var] = modified_bicycle_df[var].astype(\"category\")\n",
    "\n",
    "modified_bicycle_df = modified_bicycle_df.drop([\"datetime\"],axis=1)\n",
    "\n",
    "features = ['season', 'holiday', 'workingday', 'weather', 'temp', 'atemp',\n",
    "            'humidity', 'windspeed', 'hour', 'weekday', 'month', 'year']\n",
    "\n",
    "# feature matrix and label vector\n",
    "X = modified_bicycle_df[features]\n",
    "y = modified_bicycle_df['count'] # ignoring casual and registered\n",
    "\n",
    "# normalizing the data\n",
    "scaled_X = scale(X)"
   ]
  },
  {
   "cell_type": "markdown",
   "metadata": {},
   "source": [
    "## Linear Regression\n",
    "\n",
    "First, lets create our instance of the model..."
   ]
  },
  {
   "cell_type": "code",
   "execution_count": null,
   "metadata": {},
   "outputs": [],
   "source": [
    "from sklearn.linear_model import LinearRegression\n",
    "\n",
    "lin_reg = LinearRegression()\n",
    "\n",
    "X_train, X_test, y_train, y_test = train_test_split(X,\n",
    "                                                    y,\n",
    "                                                    test_size=0.25,\n",
    "                                                    random_state=4)"
   ]
  },
  {
   "cell_type": "markdown",
   "metadata": {},
   "source": [
    "Let's train our model and predict the our label with the testing set..."
   ]
  },
  {
   "cell_type": "code",
   "execution_count": null,
   "metadata": {},
   "outputs": [],
   "source": [
    "lin_reg.fit(X_train, y_train)\n",
    "y_predict = lin_reg.predict(X_test)"
   ]
  },
  {
   "cell_type": "markdown",
   "metadata": {},
   "source": [
    "Next, lets remove any negative predictions..."
   ]
  },
  {
   "cell_type": "code",
   "execution_count": null,
   "metadata": {},
   "outputs": [],
   "source": [
    "y_predict = zero_min(y_predict)"
   ]
  },
  {
   "cell_type": "markdown",
   "metadata": {},
   "source": [
    "Finally, our evaluation of our Linear Regression model..."
   ]
  },
  {
   "cell_type": "code",
   "execution_count": null,
   "metadata": {},
   "outputs": [],
   "source": [
    "accuracy_list = cross_val_score(lin_reg, X, y, cv=10)\n",
    "accuracy = accuracy_list.mean()\n",
    "score = r2_score(y_test, y_predict)\n",
    "\n",
    "print(\"Accuracy:\", accuracy)\n",
    "print(\"R2:\", score)"
   ]
  },
  {
   "cell_type": "markdown",
   "metadata": {},
   "source": [
    "Since this is a regression model and some of our data is categorical, we can try to turn those values into dummy variables. Let's repeat what we just did above with this new method..."
   ]
  },
  {
   "cell_type": "code",
   "execution_count": null,
   "metadata": {},
   "outputs": [],
   "source": [
    "linear_dummies_X = pd.get_dummies(X) # all features and dummies\n",
    "print(X.shape)\n",
    "\n",
    "# normalizing the data\n",
    "linear_scaled_X = scale(linear_dummies_X)\n",
    "\n",
    "# train and test\n",
    "X_train_linear, X_test_linear, y_train_linear, y_test_linear = train_test_split(linear_scaled_X,\n",
    "                                                                                y, \n",
    "                                                                                test_size=0.25, \n",
    "                                                                                random_state=4)\n",
    "\n",
    "lin_reg = LinearRegression()\n",
    "lin_reg.fit(X_train_linear, y_train_linear)\n",
    "y_predict = lin_reg.predict(X_test_linear)\n",
    "\n",
    "# adjust negative predictions\n",
    "y_predict = zero_min(y_predict)\n",
    "\n",
    "# evaluation\n",
    "accuracy_list = cross_val_score(lin_reg, linear_scaled_X, y, cv=10)\n",
    "accuracy = accuracy_list.mean()\n",
    "score = r2_score(y_test_linear, y_predict)\n",
    "\n",
    "print(\"Accuracy:\", accuracy)\n",
    "print(\"R2:\", score)"
   ]
  },
  {
   "cell_type": "markdown",
   "metadata": {},
   "source": [
    "## AdaBoost Regressor"
   ]
  },
  {
   "cell_type": "markdown",
   "metadata": {},
   "source": [
    "Creating an AdaBoost Regressor instance and spliting the dataset..."
   ]
  },
  {
   "cell_type": "code",
   "execution_count": null,
   "metadata": {},
   "outputs": [],
   "source": [
    "from sklearn.ensemble import AdaBoostRegressor\n",
    "\n",
    "ada_boost = AdaBoostRegressor(n_estimators=20, random_state=3)\n",
    "\n",
    "X_train, X_test, y_train, y_test = train_test_split(scaled_X, y, test_size=0.25, random_state=4)"
   ]
  },
  {
   "cell_type": "markdown",
   "metadata": {},
   "source": [
    "Training our model..."
   ]
  },
  {
   "cell_type": "code",
   "execution_count": null,
   "metadata": {},
   "outputs": [],
   "source": [
    "ada_boost.fit(X_train, y_train)\n",
    "y_predict = ada_boost.predict(X_test)"
   ]
  },
  {
   "cell_type": "markdown",
   "metadata": {},
   "source": [
    "Adjusting negative predictions..."
   ]
  },
  {
   "cell_type": "code",
   "execution_count": null,
   "metadata": {},
   "outputs": [],
   "source": [
    "y_predict = zero_min(y_predict)"
   ]
  },
  {
   "cell_type": "markdown",
   "metadata": {},
   "source": [
    "Our model's evaluation..."
   ]
  },
  {
   "cell_type": "code",
   "execution_count": null,
   "metadata": {},
   "outputs": [],
   "source": [
    "accuracy_list = cross_val_score(ada_boost, scaled_X, y, cv=10)\n",
    "accuracy = accuracy_list.mean()\n",
    "score = r2_score(y_test, y_predict)\n",
    "\n",
    "print(\"Accuracy:\", accuracy)\n",
    "print(\"R2:\", score)"
   ]
  },
  {
   "cell_type": "markdown",
   "metadata": {},
   "source": [
    "For this algorithm, we create dummy variables again. This gives us 57 features, so we can try to perform feature reduction. To find the best number of features, we can use RFECV."
   ]
  },
  {
   "cell_type": "code",
   "execution_count": null,
   "metadata": {},
   "outputs": [],
   "source": [
    "from sklearn.model_selection import StratifiedKFold\n",
    "from sklearn.feature_selection import RFECV\n",
    "from sklearn.svm import SVR\n",
    "\n",
    "ada_dummies_X = pd.get_dummies(X) # all features and dummies\n",
    "\n",
    "# normalizing the data\n",
    "ada_scaled_X = scale(ada_dummies_X)\n",
    "\n",
    "# train and test\n",
    "X_train, X_test, y_train, y_test = train_test_split(ada_scaled_X,\n",
    "                                                    y, \n",
    "                                                    test_size=0.25, \n",
    "                                                    random_state=4)\n",
    "\n",
    "svr = SVR(kernel=\"linear\") # estimator\n",
    "\n",
    "rfecv = RFECV(estimator=svr, step=1, cv=StratifiedKFold(2))\n",
    "rfecv.fit(X_train, y_train)\n",
    "\n",
    "print(\"Optimal number of features : %d\" % rfecv.n_features_)"
   ]
  },
  {
   "cell_type": "code",
   "execution_count": null,
   "metadata": {},
   "outputs": [],
   "source": [
    "from sklearn.decomposition import PCA\n",
    "\n",
    "ada_dummies_X = pd.get_dummies(X)\n",
    "print(ada_dummies_X.shape)\n",
    "\n",
    "# feature reduction\n",
    "pca = PCA(n_components=36) # from rfecv\n",
    "pca.fit(ada_dummies_X)\n",
    "pca_X = pca.transform(ada_dummies_X)\n",
    "print(pca_X.shape)\n",
    "\n",
    "# train and test\n",
    "X_train, X_test, y_train, y_test = train_test_split(pca_X, y, test_size=0.25, random_state=4)\n",
    "\n",
    "ada_boost = AdaBoostRegressor(n_estimators=20, random_state=3)\n",
    "\n",
    "ada_boost.fit(X_train, y_train)\n",
    "y_predict = ada_boost.predict(X_test)\n",
    "\n",
    "# adjust negative predictions\n",
    "y_predict = zero_min(y_predict)\n",
    "\n",
    "# evaluation\n",
    "accuracy_list = cross_val_score(ada_boost, pca_X, y, cv=10)\n",
    "accuracy = accuracy_list.mean()\n",
    "score = r2_score(y_test, y_predict)\n",
    "\n",
    "print(\"Accuracy:\", accuracy)\n",
    "print(\"R2:\", score)"
   ]
  },
  {
   "cell_type": "markdown",
   "metadata": {},
   "source": [
    "## Bagging Regressor"
   ]
  },
  {
   "cell_type": "code",
   "execution_count": null,
   "metadata": {},
   "outputs": [],
   "source": [
    "from sklearn.ensemble import BaggingRegressor\n",
    "\n",
    "bagging_scaled_X = scale(X)\n",
    "# train and test\n",
    "X_train, X_test, y_train, y_test = train_test_split(bagging_scaled_X,\n",
    "                                                    y,\n",
    "                                                    test_size=0.25,\n",
    "                                                    random_state=4)\n",
    "\n",
    "bagging = BaggingRegressor(random_state=1)\n",
    "bagging.fit(X_train, y_train)\n",
    "y_predict = bagging.predict(X_test)\n",
    "\n",
    "# adjust negative predictions\n",
    "y_predict = zero_min(y_predict)\n",
    "\n",
    "accuracy_list = cross_val_score(bagging, bagging_scaled_X, y, cv=10)\n",
    "accuracy = accuracy_list.mean()\n",
    "score = r2_score(y_test, y_predict)\n",
    "\n",
    "print(\"Accuracy:\", accuracy)\n",
    "print(\"R2:\", score)"
   ]
  },
  {
   "cell_type": "markdown",
   "metadata": {},
   "source": [
    "# Conclusion\n",
    "\n",
    "After testing plenty of ML algorithms such as\n",
    "- Decision Tree Classifier\n",
    "- Random Forest Classifier\n",
    "- K-Neighbors Regressor\n",
    "- Decision Tree Regressor\n",
    "- Random Forest Regressor\n",
    "- Linear Regression\n",
    "- AdaBoost Regressor\n",
    "- Bagging Regressor\n",
    "\n",
    "There were a couple of things we noticed throughout our project. The first of which was recognizing that in general, *Classifiers* weren't going to give us the results we hoped for due to our dataset. Our dataset composed of a mixture of **categorical** and **numerical** data, along with some **continuous** data. Because of this, we then changed our strategy by then trying models that used *Regression*. **K-Neighbors** immediately showed us that theses models outperformed the *Classifiers* even though the accuracy for our **K-Neighbors** was only about **27%**. The fact that we did only did a small amount of feature engineering, meant that it was defintely possible to further manipulate the data to increase our accuracies. After trying the next six different ML algorithms, two of them really stood out with their results. **Random Forest Regressor** achieved a accuracy of **79.6%**, however much analyzes of the data had to be done for such as score. **Bagging** achieved nearly the same score at **78.8%** with only normalizing the data and adjusting negative predictions! This means if enough feature engineering and data manipulation, it is possible to achieve an even high accuracy. However, due time restriction we were unable to implement these additonal factors.  \n",
    "\n",
    "Therefore, in the end with a **79.6%** accuracy, our **Random Forest Regression** model would be the best choice to predict the number of bicycles that may be used throughout the day, on a given hour. "
   ]
  },
  {
   "cell_type": "markdown",
   "metadata": {},
   "source": [
    "## Team Contribution\n",
    "\n",
    "Walter Carbajal\n",
    "- performed analyzes on Decision Tree Regressor & Random Forest Regressor\n",
    "- prepared and carefully edited our powerpoint presentation\n",
    "- overlooked jupyter notebook editing\n",
    "\n",
    "Enrique Castillo\n",
    "- performed analyzes on K-Neighbor Regressor\n",
    "- prepared the jupyter notebook and thorughly wrote descriptions and explaintions on each ML algorithm analyzes\n",
    "\n",
    "Erika Estrada\n",
    "- performed analyzes on Linear Regression, AdaBoost Regressor, and Bagging Regressor\n",
    "- contributed to the analyzes of our Random Forest Regressor\n",
    "\n",
    "Vrezh Khalatyan\n",
    "- performed analyzes on Decision Tree Classifer & Random Forest Classifier\n",
    "- noted the poor performance on Classifiers and our move to Regression models"
   ]
  },
  {
   "cell_type": "code",
   "execution_count": null,
   "metadata": {},
   "outputs": [],
   "source": []
  }
 ],
 "metadata": {
  "kernelspec": {
   "display_name": "Python 3",
   "language": "python",
   "name": "python3"
  },
  "language_info": {
   "codemirror_mode": {
    "name": "ipython",
    "version": 3
   },
   "file_extension": ".py",
   "mimetype": "text/x-python",
   "name": "python",
   "nbconvert_exporter": "python",
   "pygments_lexer": "ipython3",
   "version": "3.6.5"
  }
 },
 "nbformat": 4,
 "nbformat_minor": 2
}
